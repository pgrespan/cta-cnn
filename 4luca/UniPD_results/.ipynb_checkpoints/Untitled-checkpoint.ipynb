{
 "cells": [
  {
   "cell_type": "code",
   "execution_count": 28,
   "metadata": {},
   "outputs": [
    {
     "name": "stdout",
     "output_type": "stream",
     "text": [
      "(19,)\n"
     ]
    }
   ],
   "source": [
    "# Data handling with numpy\n",
    "import numpy as np\n",
    "import h5py\n",
    "import os\n",
    "#np.set_printoptions(threshold=np.inf)\n",
    "\n",
    "# Metric handling wit sklearn\n",
    "from sklearn import metrics\n",
    "\n",
    "# Reading the HDF5 file with pandas\n",
    "import pandas as pd\n",
    "\n",
    "# Plotting libraries\n",
    "import ctaplot\n",
    "import matplotlib.pyplot as plt\n",
    "import matplotlib\n",
    "%matplotlib inline\n",
    "import plot_irf\n",
    "\n",
    "# (Default ctaplot) energy binning \n",
    "E_bin = np.logspace(np.log10(2.51e-02), 2, 19)\n",
    "E = ctaplot.ana.logbin_mean(E_bin)\n",
    "print(E_bin.shape)"
   ]
  },
  {
   "cell_type": "code",
   "execution_count": 123,
   "metadata": {},
   "outputs": [],
   "source": [
    "files = {}\n",
    "files['separation'] = {'nocut': '/home/pietro/CTA/results/cuts_before/separation/nocuts_0.77350_0.76263.pkl',\n",
    "                     'lowcut': '/home/pietro/CTA/results/cuts_before/separation/lowcuts_0.79897_0.78493.pkl',\n",
    "                     'midcut': '/home/pietro/CTA/results/cuts_before/separation/midcuts_0.84833_0.83863.pkl',\n",
    "                     'highcut': '/home/pietro/CTA/results/cuts_before/separation/highcuts_0.93938_0.92490.pkl'\n",
    "                      }\n",
    "files['regression'] = {'nocut': '/home/pietro/CTA/results/cuts_before/regression/nocuts_0.24573_0.25495.pkl',\n",
    "                   'lowcut': '/home/pietro/CTA/results/cuts_before/regression/lowcuts_0.21761_0.22290.pkl',\n",
    "                   'midcut': '/home/pietro/CTA/results/cuts_before/regression/midcuts_0.15944_0.17980.pkl',\n",
    "                   'highcut': '/home/pietro/CTA/results/cuts_before/regression/highcuts_0.06644_0.10034.pkl'\n",
    "                   }\n",
    "rf_path = \"../RF_lstchain_20200706_v0.5.2_local_no_gammaness_cut.h5\""
   ]
  },
  {
   "cell_type": "code",
   "execution_count": 26,
   "metadata": {
    "scrolled": true
   },
   "outputs": [
    {
     "data": {
      "text/plain": [
       "{'direction': {'nocut': '/home/pietro/CTA/results/96x88/direction/nocut',\n",
       "  'lowcut': '/home/pietro/CTA/results/96x88/direction/lowcut',\n",
       "  'midcut': '/home/pietro/CTA/results/96x88/direction/midcut',\n",
       "  'highcut': '/home/pietro/CTA/results/96x88/direction/highcut'},\n",
       " 'energy': {'nocut': '/home/pietro/CTA/results/96x88/energy/nocut',\n",
       "  'lowcut': '/home/pietro/CTA/results/96x88/energy/lowcut',\n",
       "  'midcut': '/home/pietro/CTA/results/96x88/energy/midcut',\n",
       "  'highcut': '/home/pietro/CTA/results/96x88/energy/highcut'}}"
      ]
     },
     "execution_count": 26,
     "metadata": {},
     "output_type": "execute_result"
    }
   ],
   "source": [
    "dirs = {}\n",
    "\n",
    "features = ['direction', 'energy']\n",
    "for feat in features:\n",
    "    dirs['{}'.format(feat)] = {}\n",
    "    cut_list = ['nocut', 'lowcut', 'midcut', 'highcut']\n",
    "    for cut in cut_list:\n",
    "        dirs[feat]['{}'.format(cut)] = '/home/pietro/CTA/results/96x88/{}/{}'.format(feat,cut)\n",
    "\n",
    "        "
   ]
  },
  {
   "cell_type": "code",
   "execution_count": 127,
   "metadata": {},
   "outputs": [
    {
     "data": {
      "text/plain": [
       "[0.45247046430181737,\n",
       " 0.31971146539249184,\n",
       " 0.32618682098607205,\n",
       " 0.32538878332592736,\n",
       " 0.29015909141950963,\n",
       " 0.2529066856987716,\n",
       " 0.21903327898386038,\n",
       " 0.18871309175924517,\n",
       " 0.17136686418446095,\n",
       " 0.16246617854918682,\n",
       " 0.17209158062390284,\n",
       " 0.1998990934565805,\n",
       " 0.22915668178552104,\n",
       " 0.3001944476991071,\n",
       " 0.35646018635742277,\n",
       " 0.3249319987093103,\n",
       " 0.0,\n",
       " 0.0]"
      ]
     },
     "execution_count": 127,
     "metadata": {},
     "output_type": "execute_result"
    }
   ],
   "source": [
    "rfile = h5py.File(rf_path)\n",
    "rf_lc = rfile[\"Low_Cuts\"]\n",
    "rf_mc = rfile[\"Mid_Cuts\"]\n",
    "rf_hc = rfile[\"High_Cuts\"]\n",
    "\n",
    "mylc = []\n",
    "for x in rf_mc['angular_res'][:]:\n",
    "    mylc.append(x[0]*180/np.pi)\n",
    "mylc\n",
    "emylc = []\n",
    "for x in rf_mc['energy_res'][:]:\n",
    "    emylc.append(x[0])\n",
    "emylc"
   ]
  },
  {
   "cell_type": "code",
   "execution_count": 134,
   "metadata": {
    "scrolled": false
   },
   "outputs": [
    {
     "ename": "NameError",
     "evalue": "name 'fist' is not defined",
     "output_type": "error",
     "traceback": [
      "\u001b[0;31m---------------------------------------------------------------------------\u001b[0m",
      "\u001b[0;31mNameError\u001b[0m                                 Traceback (most recent call last)",
      "\u001b[0;32m<ipython-input-134-b60fd38f0d40>\u001b[0m in \u001b[0;36m<module>\u001b[0;34m\u001b[0m\n\u001b[1;32m     17\u001b[0m     \u001b[0;31m# Energy resolution\u001b[0m\u001b[0;34m\u001b[0m\u001b[0;34m\u001b[0m\u001b[0;34m\u001b[0m\u001b[0m\n\u001b[1;32m     18\u001b[0m     \u001b[0mebin\u001b[0m\u001b[0;34m,\u001b[0m \u001b[0meres\u001b[0m \u001b[0;34m=\u001b[0m \u001b[0mctaplot\u001b[0m\u001b[0;34m.\u001b[0m\u001b[0mana\u001b[0m\u001b[0;34m.\u001b[0m\u001b[0menergy_resolution_per_energy\u001b[0m\u001b[0;34m(\u001b[0m\u001b[0mmc_energy\u001b[0m\u001b[0;34m,\u001b[0m \u001b[0mreco_energy\u001b[0m\u001b[0;34m)\u001b[0m\u001b[0;34m\u001b[0m\u001b[0;34m\u001b[0m\u001b[0m\n\u001b[0;32m---> 19\u001b[0;31m     \u001b[0max\u001b[0m\u001b[0;34m.\u001b[0m\u001b[0merrorbar\u001b[0m\u001b[0;34m(\u001b[0m\u001b[0mE\u001b[0m\u001b[0;34m[\u001b[0m\u001b[0mfirst\u001b[0m\u001b[0;34m:\u001b[0m\u001b[0mlast\u001b[0m\u001b[0;34m]\u001b[0m\u001b[0;34m,\u001b[0m \u001b[0meres\u001b[0m\u001b[0;34m[\u001b[0m\u001b[0mfirst\u001b[0m\u001b[0;34m:\u001b[0m\u001b[0mlast\u001b[0m\u001b[0;34m,\u001b[0m\u001b[0;36m0\u001b[0m\u001b[0;34m]\u001b[0m\u001b[0;34m,\u001b[0m \u001b[0mxerr\u001b[0m\u001b[0;34m=\u001b[0m\u001b[0;34m(\u001b[0m\u001b[0mE\u001b[0m\u001b[0;34m[\u001b[0m\u001b[0mfist\u001b[0m\u001b[0;34m:\u001b[0m\u001b[0mlast\u001b[0m\u001b[0;34m]\u001b[0m \u001b[0;34m-\u001b[0m \u001b[0mE_bin\u001b[0m\u001b[0;34m[\u001b[0m\u001b[0mfist\u001b[0m\u001b[0;34m:\u001b[0m\u001b[0mlast\u001b[0m\u001b[0;34m]\u001b[0m\u001b[0;34m[\u001b[0m\u001b[0;34m:\u001b[0m\u001b[0;34m-\u001b[0m\u001b[0;36m1\u001b[0m\u001b[0;34m]\u001b[0m\u001b[0;34m,\u001b[0m \u001b[0mE_bin\u001b[0m\u001b[0;34m[\u001b[0m\u001b[0mfirst\u001b[0m\u001b[0;34m:\u001b[0m\u001b[0mlast\u001b[0m\u001b[0;34m]\u001b[0m\u001b[0;34m[\u001b[0m\u001b[0;36m1\u001b[0m\u001b[0;34m:\u001b[0m\u001b[0;34m]\u001b[0m \u001b[0;34m-\u001b[0m \u001b[0mE\u001b[0m\u001b[0;34m[\u001b[0m\u001b[0mfirst_last\u001b[0m\u001b[0;34m]\u001b[0m\u001b[0;34m)\u001b[0m\u001b[0;34m,\u001b[0m\u001b[0mlabel\u001b[0m \u001b[0;34m=\u001b[0m \u001b[0mf\u001b[0m\u001b[0;34m,\u001b[0m \u001b[0mfmt\u001b[0m \u001b[0;34m=\u001b[0m \u001b[0;34m'--s'\u001b[0m\u001b[0;34m)\u001b[0m\u001b[0;34m\u001b[0m\u001b[0;34m\u001b[0m\u001b[0m\n\u001b[0m\u001b[1;32m     20\u001b[0m     \u001b[0meres_per_seed\u001b[0m\u001b[0;34m.\u001b[0m\u001b[0mappend\u001b[0m\u001b[0;34m(\u001b[0m\u001b[0meres\u001b[0m\u001b[0;34m[\u001b[0m\u001b[0;34m:\u001b[0m\u001b[0;34m,\u001b[0m\u001b[0;36m0\u001b[0m\u001b[0;34m]\u001b[0m\u001b[0;34m)\u001b[0m\u001b[0;34m\u001b[0m\u001b[0;34m\u001b[0m\u001b[0m\n\u001b[1;32m     21\u001b[0m \u001b[0mboh\u001b[0m \u001b[0;34m=\u001b[0m \u001b[0mnp\u001b[0m\u001b[0;34m.\u001b[0m\u001b[0mmin\u001b[0m\u001b[0;34m(\u001b[0m\u001b[0meres_per_seed\u001b[0m\u001b[0;34m,\u001b[0m \u001b[0maxis\u001b[0m\u001b[0;34m=\u001b[0m\u001b[0;36m0\u001b[0m\u001b[0;34m)\u001b[0m\u001b[0;34m\u001b[0m\u001b[0;34m\u001b[0m\u001b[0m\n",
      "\u001b[0;31mNameError\u001b[0m: name 'fist' is not defined"
     ]
    },
    {
     "data": {
      "image/png": "[encoded data removed]",
      "text/plain": [
       "<Figure size 936x936 with 2 Axes>"
      ]
     },
     "metadata": {
      "needs_background": "light"
     },
     "output_type": "display_data"
    }
   ],
   "source": [
    "fig, axs = plt.subplots(nrows=2, ncols=1, figsize=(13, 13), sharex=True, gridspec_kw={'hspace': 0,'height_ratios': [2.5, 1]})\n",
    "energy_datapoints = {}\n",
    "feature = 'energy'\n",
    "cut = 'midcut'\n",
    "first=0\n",
    "last=-5\n",
    "#fig, ax = plt.subplots(1,figsize=(20,10))\n",
    "eres_per_seed = [] \n",
    "ax = axs[0]\n",
    "for f in os.listdir(dirs[feature][cut]):\n",
    "    file = os.path.join(dirs[feature][cut], f)\n",
    "    data = pd.read_pickle(file)\n",
    "    #print(data)\n",
    "    mc_energy = np.power(10,np.array(data['energy_true']))\n",
    "    reco_energy = np.power(10,np.array(data['energy_reco']))\n",
    "    \n",
    "    # Energy resolution\n",
    "    ebin, eres = ctaplot.ana.energy_resolution_per_energy(mc_energy, reco_energy)\n",
    "    ax.errorbar(E[first:last], eres[first:last,0], xerr=(E[fist:last] - E_bin[fist:last][:-1], E_bin[first:last][1:] - E[first_last]),label = f, fmt = '--s')\n",
    "    eres_per_seed.append(eres[:,0])\n",
    "boh = np.min(eres_per_seed, axis=0)\n",
    "mean = np.mean(eres_per_seed, axis=0)\n",
    "median = np.median(eres_per_seed, axis=0)\n",
    "perc_up = np.percentile(eres_per_seed, 84, axis=0)\n",
    "perc_down = np.percentile(eres_per_seed, 16, axis=0)\n",
    "#ax.errorbar(E, mean, xerr=(E - E_bin[:-1], E_bin[1:] - E),\n",
    "                        #label = '{}'.format(cut))#, #fmt = fmts[ind], color=colors[ind])\n",
    "#ax.errorbar(E, boh, xerr=(E - E_bin[:-1], E_bin[1:] - E),\n",
    "                        #label = '{}'.format(cut), fmt = '--s')\n",
    "ax.errorbar(E, emylc, xerr=(E - E_bin[:-1], E_bin[1:] - E),label = f, fmt = '--s')\n",
    "ax.fill_between(E, median, perc_up, alpha=0.4, linewidth=0)\n",
    "ax.fill_between(E, median, perc_down, alpha=0.4, linewidth=0)\n",
    "#ax.fill_between(E, mean, mean-std,color=colors[ind], alpha=0.15, linewidth=0)\n",
    "#ax.errorbar(E, boh, xerr=(E - E_bin[:-1], E_bin[1:] - E),\n",
    "                        #label = '{}'.format(cut))#, #fmt = fmts[ind], color=colors[ind])\n",
    "\n",
    "# Scale, labels and title\n",
    "ax.set_ylabel(r\"$(\\Delta E/E)_{68}$\",fontsize=25)\n",
    "\n",
    "ax.set_ybound(0.14,0.44)\n",
    "#ax.set_yticks([0.1,0.2,0.3,0.4,0.5,0.6,0.7])\n",
    "ax.set_xlabel(\"Energy true [TeV]\",fontsize=25)\n",
    "ax.set_xscale('log')\n",
    "ax.set_xlim(0.02, 30)\n",
    "ax.set_title('Energy resolution',fontsize=25)\n",
    "ax.tick_params(labelsize=25)\n",
    "ax.set_xscale('log')\n",
    "ax.legend()\n",
    "#major and minor grid lines\n",
    "ax.grid(b=True, which='major', color='gray', alpha=0.8, linestyle='dashdot', lw=1.5)\n",
    "ax.minorticks_on()\n",
    "ax.grid(b=True, which='minor', color='gray', alpha=0.2, ls='-', lw=1)\n",
    "\n",
    "\n",
    "\n",
    "#########################################################################################\n",
    "ax = axs[1]\n",
    "\n",
    "ax.set_xlabel(\"Energy true [TeV]\",fontsize=25)\n",
    "ax.set_xscale('log')\n",
    "ax.set_xlim(0.02, 30)\n",
    "ax.set_title('Energy resolution',fontsize=25)\n",
    "ax.tick_params(labelsize=25)\n",
    "ax.legend()\n",
    "#major and minor grid lines\n",
    "ax.grid(b=True, which='major', color='gray', alpha=0.8, linestyle='dashdot', lw=1.5)\n",
    "ax.minorticks_on()\n",
    "ax.grid(b=True, which='minor', color='gray', alpha=0.2, ls='-', lw=1)\n",
    "perc = (np.array(emylc)/median -1)*100\n",
    "ax.errorbar(E[first:last], perc[first:last], xerr=(E[first:last] - E_bin[first:last][:-1], E_bin[first:last][1:] - E[first:last]),\n",
    "                        #yerr=(angres[1:last][:, 0] - angres[1:last][:, 1], angres[1:last][:, 2] - angres[1:last][:, 0]),\n",
    "                        label = 'VGG13: mid-cut', fmt = '--s', lw=1.5, markersize=9)\n"
   ]
  },
  {
   "cell_type": "code",
   "execution_count": null,
   "metadata": {},
   "outputs": [],
   "source": [
    "energy_datapoints = {}\n",
    "feature = 'direction'\n",
    "cut = 'highcut'\n",
    "fig, ax = plt.subplots(1,figsize=(20,10))\n",
    "eres_per_seed = [] \n",
    "for f in os.listdir(dirs[feature][cut]):\n",
    "    file = os.path.join(dirs[feature][cut], f)\n",
    "    data = pd.read_pickle(file)\n",
    "    #print(data)\n",
    "    mc_energy = np.power(10,np.array(data['energy_true']))\n",
    "    reco_energy = np.power(10,np.array(data['energy_reco']))\n",
    "    \n",
    "    # Energy resolution\n",
    "    mc_alt = np.array(data['d_alt_true'])\n",
    "    reco_alt = np.array(data['d_alt_reco'])\n",
    "    mc_az = np.array(data['d_az_true'])\n",
    "    reco_az = np.array(data['d_az_reco'])\n",
    "boh = np.min(eres_per_seed, axis=0)\n",
    "mean = np.mean(eres_per_seed, axis=0)\n",
    "median = np.median(eres_per_seed, axis=0)\n",
    "perc_up = np.percentile(eres_per_seed, 84, axis=0)\n",
    "perc_down = np.percentile(eres_per_seed, 16, axis=0)\n",
    "#ax.errorbar(E, mean, xerr=(E - E_bin[:-1], E_bin[1:] - E),\n",
    "                        #label = '{}'.format(cut))#, #fmt = fmts[ind], color=colors[ind])\n",
    "ax.errorbar(E, mean, xerr=(E - E_bin[:-1], E_bin[1:] - E),\n",
    "                        label = '{}'.format(cut), fmt = '--s')\n",
    "ax.fill_between(E, mean, perc_up, alpha=0.4, linewidth=0)\n",
    "ax.fill_between(E, mean, perc_down, alpha=0.4, linewidth=0)\n",
    "#ax.fill_between(E, mean, mean-std,color=colors[ind], alpha=0.15, linewidth=0)\n",
    "#ax.errorbar(E, boh, xerr=(E - E_bin[:-1], E_bin[1:] - E),\n",
    "                        #label = '{}'.format(cut))#, #fmt = fmts[ind], color=colors[ind])\n",
    "\n",
    "# Scale, labels and title\n",
    "ax.set_ylabel(r\"$(\\Delta E/E)_{68}$\",fontsize=25)\n",
    "\n",
    "ax.set_ybound(0.14,0.44)\n",
    "#ax.set_yticks([0.1,0.2,0.3,0.4,0.5,0.6,0.7])\n",
    "ax.set_xlabel(\"Energy true [TeV]\",fontsize=25)\n",
    "ax.set_xscale('log')\n",
    "ax.set_xlim(0.02, 4)\n",
    "ax.set_title('Energy resolution',fontsize=25)\n",
    "ax.tick_params(labelsize=25)\n",
    "ax.set_xscale('log')"
   ]
  },
  {
   "cell_type": "code",
   "execution_count": null,
   "metadata": {},
   "outputs": [],
   "source": []
  },
  {
   "cell_type": "code",
   "execution_count": 41,
   "metadata": {},
   "outputs": [
    {
     "data": {
      "text/plain": [
       "{'Energy_resolution_midcut': array([0.40083429, 0.35092694, 0.30405493, 0.26420605, 0.23145661,\n",
       "        0.20760755, 0.19104107, 0.16988194, 0.15491218, 0.144654  ,\n",
       "        0.14634727, 0.15531215, 0.17305691, 0.18353419, 0.19486764,\n",
       "        0.17890025, 0.14831368, 0.        ])}"
      ]
     },
     "execution_count": 41,
     "metadata": {},
     "output_type": "execute_result"
    }
   ],
   "source": [
    "energy_datapoints"
   ]
  },
  {
   "cell_type": "code",
   "execution_count": 3,
   "metadata": {},
   "outputs": [],
   "source": [
    "h5_rf = h5py.File(rf_file, 'r')"
   ]
  },
  {
   "cell_type": "code",
   "execution_count": 4,
   "metadata": {},
   "outputs": [
    {
     "data": {
      "text/plain": [
       "<KeysViewHDF5 ['High_Cuts', 'Low_Cuts', 'Mid_Cuts', 'No_Cut']>"
      ]
     },
     "execution_count": 4,
     "metadata": {},
     "output_type": "execute_result"
    }
   ],
   "source": [
    "h5_rf.keys()"
   ]
  },
  {
   "cell_type": "code",
   "execution_count": 9,
   "metadata": {},
   "outputs": [],
   "source": [
    "hrf = h5_rf['High_Cuts']['angular_res'][:]"
   ]
  },
  {
   "cell_type": "code",
   "execution_count": 10,
   "metadata": {},
   "outputs": [
    {
     "data": {
      "text/plain": [
       "array([[0.        ],\n",
       "       [0.        ],\n",
       "       [0.0094799 ],\n",
       "       [0.00649356],\n",
       "       [0.00297554],\n",
       "       [0.00244287],\n",
       "       [0.00206878],\n",
       "       [0.00193323],\n",
       "       [0.0019964 ],\n",
       "       [0.00195047],\n",
       "       [0.0020363 ],\n",
       "       [0.00207139],\n",
       "       [0.00233882],\n",
       "       [0.00354282],\n",
       "       [0.00369148],\n",
       "       [0.00528224],\n",
       "       [0.        ],\n",
       "       [0.        ]])"
      ]
     },
     "execution_count": 10,
     "metadata": {},
     "output_type": "execute_result"
    }
   ],
   "source": []
  }
 ],
 "metadata": {
  "kernelspec": {
   "display_name": "Python 3",
   "language": "python",
   "name": "python3"
  },
  "language_info": {
   "codemirror_mode": {
    "name": "ipython",
    "version": 3
   },
   "file_extension": ".py",
   "mimetype": "text/x-python",
   "name": "python",
   "nbconvert_exporter": "python",
   "pygments_lexer": "ipython3",
   "version": "3.6.9"
  }
 },
 "nbformat": 4,
 "nbformat_minor": 4
}
