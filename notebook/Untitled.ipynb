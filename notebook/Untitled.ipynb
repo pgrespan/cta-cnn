{
 "cells": [
  {
   "cell_type": "code",
   "execution_count": 1,
   "metadata": {},
   "outputs": [
    {
     "name": "stderr",
     "output_type": "stream",
     "text": [
      "Sampling rate is not in file, defaulting to 1.0 GHz\n"
     ]
    }
   ],
   "source": [
    "import numpy as np\n",
    "from ctapipe.image.hillas import hillas_parameters\n",
    "from ctapipe.image.tests.test_hillas import create_sample_image, compare_hillas\n",
    "geom, image, clean_mask = create_sample_image(psi='0d')\n",
    "\n",
    "# Fastest\n",
    "geom_selected = geom[clean_mask]\n",
    "image_selected = image[clean_mask]\n",
    "hillas_selected = hillas_parameters(geom_selected, image_selected)\n",
    "\n",
    "# Mid (1.45 times longer than fastest)\n",
    "image_zeros = image.copy()\n",
    "image_zeros[~clean_mask] = 0\n",
    "hillas_zeros = hillas_parameters(geom, image_zeros)\n",
    "\n",
    "# Slowest (1.51 times longer than fastest)\n",
    "image_masked = np.ma.masked_array(image, mask=~clean_mask)\n",
    "hillas_masked = hillas_parameters(geom, image_masked)\n",
    "compare_hillas(hillas_selected, hillas_zeros)\n",
    "compare_hillas(hillas_selected, hillas_masked)"
   ]
  },
  {
   "cell_type": "code",
   "execution_count": 2,
   "metadata": {},
   "outputs": [],
   "source": [
    "compare_hillas(hillas_selected, hillas_zeros)"
   ]
  },
  {
   "cell_type": "code",
   "execution_count": 10,
   "metadata": {},
   "outputs": [],
   "source": [
    "a = np.arange(20)\n",
    "b = np.arange(10)"
   ]
  },
  {
   "cell_type": "code",
   "execution_count": 4,
   "metadata": {},
   "outputs": [
    {
     "data": {
      "text/plain": [
       "array([ 0,  1,  2,  3,  4,  5,  6,  7,  8,  9, 10, 11, 12, 13, 14, 15, 16,\n",
       "       17, 18, 19])"
      ]
     },
     "execution_count": 4,
     "metadata": {},
     "output_type": "execute_result"
    }
   ],
   "source": [
    "a"
   ]
  },
  {
   "cell_type": "code",
   "execution_count": 25,
   "metadata": {},
   "outputs": [
    {
     "data": {
      "text/plain": [
       "20"
      ]
     },
     "execution_count": 25,
     "metadata": {},
     "output_type": "execute_result"
    }
   ],
   "source": [
    "len(np.where(a>=5,1,2))"
   ]
  },
  {
   "cell_type": "code",
   "execution_count": 8,
   "metadata": {},
   "outputs": [
    {
     "data": {
      "text/plain": [
       "(array([ 5,  6,  7,  8,  9, 10, 11, 12, 13, 14, 15, 16, 17, 18, 19]),)"
      ]
     },
     "execution_count": 8,
     "metadata": {},
     "output_type": "execute_result"
    }
   ],
   "source": [
    "c"
   ]
  },
  {
   "cell_type": "code",
   "execution_count": null,
   "metadata": {},
   "outputs": [],
   "source": []
  }
 ],
 "metadata": {
  "kernelspec": {
   "display_name": "Python 3",
   "language": "python",
   "name": "python3"
  },
  "language_info": {
   "codemirror_mode": {
    "name": "ipython",
    "version": 3
   },
   "file_extension": ".py",
   "mimetype": "text/x-python",
   "name": "python",
   "nbconvert_exporter": "python",
   "pygments_lexer": "ipython3",
   "version": "3.6.9"
  }
 },
 "nbformat": 4,
 "nbformat_minor": 2
}
