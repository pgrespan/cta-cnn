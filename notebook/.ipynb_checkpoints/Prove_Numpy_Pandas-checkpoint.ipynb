{
 "cells": [
  {
   "cell_type": "code",
   "execution_count": 1,
   "metadata": {},
   "outputs": [],
   "source": [
    "import numpy as np\n",
    "import pandas as pd"
   ]
  },
  {
   "cell_type": "markdown",
   "metadata": {},
   "source": [
    "################# 1 #################"
   ]
  },
  {
   "cell_type": "code",
   "execution_count": 2,
   "metadata": {
    "scrolled": false
   },
   "outputs": [
    {
     "name": "stdout",
     "output_type": "stream",
     "text": [
      "   0  1    2\n",
      "0  7  0  113\n",
      "1  2  1  122\n",
      "2  6  2  137\n",
      "3  8  3  149\n",
      "4  2  4  122\n",
      "5  8  5  108\n",
      "6  7  6  130\n",
      "7  7  7  117\n",
      "8  4  8  139\n",
      "9  4  9  100 \n",
      "\n",
      "    0  1    2\n",
      "0   7  0  113\n",
      "1   2  1  122\n",
      "2   6  2  137\n",
      "3   8  3  149\n",
      "4   2  4  122\n",
      "5   8  5  108\n",
      "6   7  6  130\n",
      "7   7  7  117\n",
      "8   4  8  139\n",
      "9   4  9  100\n",
      "10  2  0  125\n",
      "11  0  1  100\n",
      "12  4  2  106\n",
      "13  7  3  118\n",
      "14  0  4  147\n",
      "15  0  5  128\n",
      "16  2  6  109\n",
      "17  7  7  109\n",
      "18  5  8  130\n",
      "19  7  9  118\n"
     ]
    }
   ],
   "source": [
    "# provo a creare un DataFrame partendo da un np.ndarray \"alla Nicola\"\n",
    "\n",
    "# create empty DataFrame with 3 columns\n",
    "dfcp = pd.DataFrame(columns=range(3))\n",
    "\n",
    "# create 3 array of same lenght\n",
    "a1 = np.random.randint(10, size=10)\n",
    "b1 = np.arange(len(a1))\n",
    "c1 = np.random.randint(low=100, high=150, size=10)\n",
    "\n",
    "# stack the 3 arrays \"column-wise\" and append to DataFrame dfcp; print result\n",
    "cp1 = np.dstack((a1,b1,c1)).reshape(-1,3)\n",
    "dfcp = pd.DataFrame.append(dfcp, pd.DataFrame(cp1), ignore_index=True)\n",
    "print(dfcp, '\\n')\n",
    "\n",
    "# repeat procedure\n",
    "a2 = np.random.randint(10, size=10)\n",
    "b2 = np.arange(len(a2))\n",
    "c2 = np.random.randint(low=100, high=150, size=10)\n",
    "\n",
    "# append new stacked array to DataFrame; print new result\n",
    "cp2 = np.dstack((a2,b2,c2)).reshape(-1,3)\n",
    "dfcp = pd.DataFrame.append(dfcp, pd.DataFrame(cp2), ignore_index=True)\n",
    "print(dfcp)"
   ]
  },
  {
   "cell_type": "code",
   "execution_count": 7,
   "metadata": {},
   "outputs": [
    {
     "name": "stdout",
     "output_type": "stream",
     "text": [
      "idx:  2\n",
      "idx:  3\n",
      "idx:  0\n",
      "idx:  8\n",
      "idx:  6\n",
      "idx:  7\n",
      "idx:  3\n",
      "idx:  3\n",
      "idx:  4\n",
      "idx:  2\n",
      "   x  y    z\n",
      "0  2  0  100\n",
      "1  3  1  126\n",
      "2  0  2  142\n",
      "3  8  3  127\n",
      "4  6  4  111\n",
      "5  7  5  131\n",
      "6  3  6  139\n",
      "7  3  7  121\n",
      "8  4  8  114\n",
      "9  2  9  122\n",
      "   x  y    z\n",
      "0  2  0  103\n",
      "1  0  1  149\n",
      "2  9  2  130\n",
      "3  7  3  128\n",
      "4  6  4  118\n",
      "5  8  5  142\n",
      "6  5  6  105\n",
      "7  3  7  124\n",
      "8  3  8  112\n",
      "9  4  9  144 \n",
      "\n",
      "   x  y\n",
      "0  2  0\n",
      "1  3  1\n",
      "2  0  2\n",
      "3  8  3\n",
      "4  6  4\n",
      "5  7  5\n",
      "6  3  6\n",
      "7  3  7\n",
      "8  4  8\n",
      "9  2  9\n",
      "0  2  0\n",
      "1  0  1\n",
      "2  9  2\n",
      "3  7  3\n",
      "4  6  4\n",
      "5  8  5\n",
      "6  5  6\n",
      "7  3  7\n",
      "8  3  8\n",
      "9  4  9\n",
      "     x  y\n",
      "0  0.0  0\n",
      "1  0.0  1\n",
      "2  0.0  2\n",
      "3  0.0  3\n",
      "4  0.0  4\n",
      "5  0.0  5\n",
      "6  0.0  6\n",
      "7  0.0  7\n",
      "8  0.0  8\n",
      "9  0.0  9\n",
      "0  0.0  0\n",
      "1  0.0  1\n",
      "2  0.0  2\n",
      "3  0.0  3\n",
      "4  0.0  4\n",
      "5  0.0  5\n",
      "6  0.0  6\n",
      "7  0.0  7\n",
      "8  0.0  8\n",
      "9  0.0  9\n"
     ]
    }
   ],
   "source": [
    "# create DataFrame in a more rational way\n",
    "\n",
    "bigDF = pd.DataFrame()\n",
    "\n",
    "\n",
    "new_df = pd.DataFrame()\n",
    "# create 3 array of same lenght\n",
    "x = np.random.randint(10, size=10)\n",
    "y = np.arange(len(a1))\n",
    "z = np.random.randint(low=100, high=150, size=10)\n",
    "\n",
    "new_df['x'] = x\n",
    "new_df['y'] = y\n",
    "new_df['z'] = z\n",
    "\n",
    "for idx in new_df['x']:\n",
    "    print(\"idx: \", idx)\n",
    "print(new_df)\n",
    "bigDF = bigDF.append(new_df, ignore_index=True)\n",
    "\n",
    "# create 3 array of same lenght\n",
    "x0 = np.random.randint(10, size=10)\n",
    "y0 = np.arange(len(a1))\n",
    "z0 = np.random.randint(low=100, high=150, size=10)\n",
    "\n",
    "new_df['x'] = x0\n",
    "new_df['y'] = y0\n",
    "new_df['z'] = z0\n",
    "\n",
    "print(new_df, \"\\n\")\n",
    "\n",
    "bigDF = bigDF.append(new_df, ignore_index=False)\n",
    "print(bigDF[['x','y']])\n",
    "bigDF['x'] = np.zeros(len(bigDF['x']))\n",
    "print(bigDF[['x','y']])\n"
   ]
  },
  {
   "cell_type": "code",
   "execution_count": null,
   "metadata": {
    "scrolled": true
   },
   "outputs": [],
   "source": [
    "for i, row in bigDF.iterrows():\n",
    "    print(i, row['z'])"
   ]
  },
  {
   "cell_type": "code",
   "execution_count": null,
   "metadata": {},
   "outputs": [],
   "source": [
    "a = bigDF['y']\n",
    "print(type(a))"
   ]
  },
  {
   "cell_type": "markdown",
   "metadata": {},
   "source": [
    "############################### 2 ##############################"
   ]
  },
  {
   "cell_type": "code",
   "execution_count": null,
   "metadata": {
    "scrolled": true
   },
   "outputs": [],
   "source": [
    "a = np.ones([12,8])\n",
    "b = np.zeros([5,8])\n",
    "print(a, b)"
   ]
  },
  {
   "cell_type": "code",
   "execution_count": null,
   "metadata": {},
   "outputs": [],
   "source": [
    "df = pd.DataFrame(columns=range(8))"
   ]
  },
  {
   "cell_type": "code",
   "execution_count": null,
   "metadata": {},
   "outputs": [],
   "source": [
    "df = df.append(pd.DataFrame(a))"
   ]
  },
  {
   "cell_type": "code",
   "execution_count": null,
   "metadata": {},
   "outputs": [],
   "source": [
    "df = df.append(pd.DataFrame(b), ignore_index=True)"
   ]
  },
  {
   "cell_type": "code",
   "execution_count": null,
   "metadata": {},
   "outputs": [],
   "source": [
    "df"
   ]
  },
  {
   "cell_type": "code",
   "execution_count": null,
   "metadata": {},
   "outputs": [],
   "source": []
  }
 ],
 "metadata": {
  "kernelspec": {
   "display_name": "Python 3",
   "language": "python",
   "name": "python3"
  },
  "language_info": {
   "codemirror_mode": {
    "name": "ipython",
    "version": 3
   },
   "file_extension": ".py",
   "mimetype": "text/x-python",
   "name": "python",
   "nbconvert_exporter": "python",
   "pygments_lexer": "ipython3",
   "version": "3.6.9"
  }
 },
 "nbformat": 4,
 "nbformat_minor": 2
}
