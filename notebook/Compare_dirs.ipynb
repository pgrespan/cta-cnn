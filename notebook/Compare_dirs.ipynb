{
 "cells": [
  {
   "cell_type": "code",
   "execution_count": 2,
   "metadata": {},
   "outputs": [],
   "source": [
    "from os import listdir\n",
    "from os.path import isfile, join\n",
    "import subprocess\n",
    "\n",
    "path_int_train = \"/home/pietro/ctasoft/CTA/compare_dirs/test2\"\n",
    "#path_int_val = \"/home/pietro/ctasoft/CTA/compare_dirs/test1\"\n",
    "path_org_train = \"/home/pietro/ctasoft/CTA/compare_dirs/test1\"\n",
    "path_org_test = \"/home/pietro/ctasoft/CTA/compare_dirs/test3\"\n",
    "\n",
    "path_to_test = \"/home/pietro/ctasoft/CTA/compare_dirs/target\"\n",
    "\n",
    "interp = listdir(path_int_train)\n",
    "original = [path_org_train, path_org_test]\n",
    "#original = listdir(path_org_train) + listid(path_org_test)\n",
    "\n",
    "for path in original:\n",
    "    for f in listdir(path):\n",
    "        if f[:-4]+'_interp.txt' not in interp:\n",
    "            status = subprocess.call('cp {} {}'.format(join(path,f), path_to_test), shell=True)"
   ]
  }
 ],
 "metadata": {
  "kernelspec": {
   "display_name": "Python 3",
   "language": "python",
   "name": "python3"
  },
  "language_info": {
   "codemirror_mode": {
    "name": "ipython",
    "version": 3
   },
   "file_extension": ".py",
   "mimetype": "text/x-python",
   "name": "python",
   "nbconvert_exporter": "python",
   "pygments_lexer": "ipython3",
   "version": "3.6.9"
  }
 },
 "nbformat": 4,
 "nbformat_minor": 2
}
