{
 "cells": [
  {
   "cell_type": "code",
   "execution_count": 1,
   "metadata": {},
   "outputs": [],
   "source": [
    "import tables\n",
    "import numpy as np\n",
    "from ctapipe.instrument.camera import CameraGeometry \n",
    "import matplotlib.pyplot as plt\n"
   ]
  },
  {
   "cell_type": "code",
   "execution_count": 2,
   "metadata": {},
   "outputs": [],
   "source": [
    "# open file with data\n",
    "data_path = '/home/pietro/ctasoft/CTA/data/interp/gamma-diffuse_20deg_180deg_runs111-120___cta-prod3-demo-2147m-LaPalma-baseline-mono_interp.h5'\n",
    "data = tables.open_file(data_path)"
   ]
  },
  {
   "cell_type": "code",
   "execution_count": 4,
   "metadata": {},
   "outputs": [
    {
     "name": "stdout",
     "output_type": "stream",
     "text": [
      "/home/pietro/ctasoft/CTA/data/interp/gamma-diffuse_20deg_180deg_runs111-120___cta-prod3-demo-2147m-LaPalma-baseline-mono_interp.h5 (File) ''\n",
      "Last modif.: 'Tue Jan 21 14:37:14 2020'\n",
      "Object Tree: \n",
      "/ (RootGroup) ''\n",
      "/Event_Info (Group) ''\n",
      "/Event_Info/ei_alt (Array(12198,)) ''\n",
      "/Event_Info/ei_az (Array(12198,)) ''\n",
      "/Event_Info/ei_mc_energy (Array(12198,)) ''\n",
      "/LST (Group) ''\n",
      "/LST/LST_event_index (Array(19874,)) ''\n",
      "/LST/LST_image_charge (Array(19874, 1855)) ''\n",
      "/LST/LST_image_charge_interp (Array(19874, 100, 100)) ''\n",
      "/LST/LST_image_peak_times (Array(19874, 1855)) ''\n",
      "/LST/LST_image_peak_times_interp (Array(19874, 100, 100)) ''\n",
      "/LST/delta_alt (Array(19874,)) ''\n",
      "/LST/delta_az (Array(19874,)) ''\n",
      "/LST/intensities (Array(19874,)) ''\n",
      "/LST/intensities_width_2 (Array(19874,)) ''\n",
      "\n"
     ]
    }
   ],
   "source": [
    "print(data)"
   ]
  },
  {
   "cell_type": "code",
   "execution_count": 5,
   "metadata": {},
   "outputs": [],
   "source": [
    "#LST data\n",
    "LST_event_index = [x for x in data.root.LST.LST_event_index]\n",
    "LST_image_charge = [x for x in data.root.LST.LST_image_charge]"
   ]
  },
  {
   "cell_type": "code",
   "execution_count": 7,
   "metadata": {},
   "outputs": [
    {
     "data": {
      "text/plain": [
       "19874"
      ]
     },
     "execution_count": 7,
     "metadata": {},
     "output_type": "execute_result"
    }
   ],
   "source": [
    "len(LST_event_index)"
   ]
  },
  {
   "cell_type": "code",
   "execution_count": 8,
   "metadata": {},
   "outputs": [],
   "source": [
    "r = np.arange(len(LST_event_index))"
   ]
  },
  {
   "cell_type": "code",
   "execution_count": 10,
   "metadata": {},
   "outputs": [
    {
     "data": {
      "text/plain": [
       "19874"
      ]
     },
     "execution_count": 10,
     "metadata": {},
     "output_type": "execute_result"
    }
   ],
   "source": [
    "len(r)"
   ]
  }
 ],
 "metadata": {
  "kernelspec": {
   "display_name": "Python 3",
   "language": "python",
   "name": "python3"
  },
  "language_info": {
   "codemirror_mode": {
    "name": "ipython",
    "version": 3
   },
   "file_extension": ".py",
   "mimetype": "text/x-python",
   "name": "python",
   "nbconvert_exporter": "python",
   "pygments_lexer": "ipython3",
   "version": "3.6.9"
  }
 },
 "nbformat": 4,
 "nbformat_minor": 2
}
