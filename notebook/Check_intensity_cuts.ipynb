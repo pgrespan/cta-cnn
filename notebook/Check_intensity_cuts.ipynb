{
 "cells": [
  {
   "cell_type": "code",
   "execution_count": 1,
   "metadata": {},
   "outputs": [],
   "source": [
    "import h5py\n",
    "import tables\n",
    "import numpy as np\n",
    "import matplotlib.pyplot as plt\n"
   ]
  },
  {
   "cell_type": "code",
   "execution_count": 2,
   "metadata": {},
   "outputs": [],
   "source": [
    "#path = '/home/pietro/ctasoft/CTA/data/interp/proton/train/proton_20deg_180deg_runs1001-1010___cta-prod3-demo-2147m-LaPalma-baseline-mono_interp.h5'\n",
    "path = '/mnt/Dati/CTA_DATA_EXT/interp/gamma_diff/gamma-diffuse_20deg_180deg_runs131-140___cta-prod3-demo-2147m-LaPalma-baseline-mono_interp.h5'\n",
    "path1=\"/mnt/Dati/CTA_DATA_EXT/data/orig/gamma-diffuse_20deg_180deg_runs111-120___cta-prod3-demo-2147m-LaPalma-baseline-mono.h5\"\n",
    "path2=\"/mnt/Dati/CTA_DATA_EXT/data/orig/gamma-diffuse_20deg_180deg_runs811-1000___cta-prod3-demo-2147m-LaPalma-baseline-mono.h5\""
   ]
  },
  {
   "cell_type": "code",
   "execution_count": 3,
   "metadata": {},
   "outputs": [],
   "source": [
    "data = tables.open_file(path)\n",
    "data1 = tables.open_file(path1)\n",
    "data2 = tables.open_file(path2)"
   ]
  },
  {
   "cell_type": "code",
   "execution_count": 4,
   "metadata": {},
   "outputs": [
    {
     "data": {
      "text/plain": [
       "File(filename=/mnt/Dati/CTA_DATA_EXT/data/orig/gamma-diffuse_20deg_180deg_runs111-120___cta-prod3-demo-2147m-LaPalma-baseline-mono.h5, title='', mode='r', root_uep='/', filters=Filters(complevel=0, shuffle=False, bitshuffle=False, fletcher32=False, least_significant_digit=None))\n",
       "/ (RootGroup) ''\n",
       "/Array_Information (Table(4,), shuffle, lzo(1)) 'Table of array/subarray information'\n",
       "  description := {\n",
       "  \"id\": UInt16Col(shape=(), dflt=0, pos=0),\n",
       "  \"type\": StringCol(itemsize=20, shape=(), dflt=b'', pos=1),\n",
       "  \"x\": Float32Col(shape=(), dflt=0.0, pos=2),\n",
       "  \"y\": Float32Col(shape=(), dflt=0.0, pos=3),\n",
       "  \"z\": Float32Col(shape=(), dflt=0.0, pos=4)}\n",
       "  byteorder := 'little'\n",
       "  chunkshape := (1927,)\n",
       "/Events (Table(12198,), shuffle, lzo(1)) 'Table of Event Information'\n",
       "  description := {\n",
       "  \"LST_LSTCam_indices\": UInt32Col(shape=(4,), dflt=0, pos=0),\n",
       "  \"LST_LSTCam_multiplicity\": UInt32Col(shape=(), dflt=0, pos=1),\n",
       "  \"alt\": Float32Col(shape=(), dflt=0.0, pos=2),\n",
       "  \"az\": Float32Col(shape=(), dflt=0.0, pos=3),\n",
       "  \"core_x\": Float32Col(shape=(), dflt=0.0, pos=4),\n",
       "  \"core_y\": Float32Col(shape=(), dflt=0.0, pos=5),\n",
       "  \"event_id\": UInt32Col(shape=(), dflt=0, pos=6),\n",
       "  \"h_first_int\": Float32Col(shape=(), dflt=0.0, pos=7),\n",
       "  \"mc_energy\": Float32Col(shape=(), dflt=0.0, pos=8),\n",
       "  \"obs_id\": UInt32Col(shape=(), dflt=0, pos=9),\n",
       "  \"shower_primary_id\": UInt8Col(shape=(), dflt=0, pos=10),\n",
       "  \"x_max\": Float32Col(shape=(), dflt=0.0, pos=11)}\n",
       "  byteorder := 'little'\n",
       "  chunkshape := (1149,)\n",
       "  autoindex := True\n",
       "  colindexes := {\n",
       "    \"alt\": Index(6, medium, shuffle, zlib(1)).is_csi=False,\n",
       "    \"az\": Index(6, medium, shuffle, zlib(1)).is_csi=False,\n",
       "    \"mc_energy\": Index(6, medium, shuffle, zlib(1)).is_csi=False}\n",
       "/LST_LSTCam (Table(24139,), shuffle, lzo(1)) 'Table of LST:LSTCam images'\n",
       "  description := {\n",
       "  \"charge\": Float32Col(shape=(1855,), dflt=0.0, pos=0),\n",
       "  \"event_index\": Int32Col(shape=(), dflt=0, pos=1),\n",
       "  \"peakpos\": Float32Col(shape=(1855,), dflt=0.0, pos=2)}\n",
       "  byteorder := 'little'\n",
       "  chunkshape := (17,)\n",
       "  autoindex := True\n",
       "  colindexes := {\n",
       "    \"event_index\": Index(6, medium, shuffle, zlib(1)).is_csi=False}\n",
       "/Telescope_Type_Information (Table(1,), shuffle, lzo(1)) 'Table of telescope type information'\n",
       "  description := {\n",
       "  \"camera\": StringCol(itemsize=20, shape=(), dflt=b'', pos=0),\n",
       "  \"num_pixels\": UInt32Col(shape=(), dflt=0, pos=1),\n",
       "  \"optics\": StringCol(itemsize=20, shape=(), dflt=b'', pos=2),\n",
       "  \"pixel_positions\": Float32Col(shape=(1855, 2), dflt=0.0, pos=3),\n",
       "  \"type\": StringCol(itemsize=20, shape=(), dflt=b'', pos=4)}\n",
       "  byteorder := 'little'\n",
       "  chunkshape := (4,)"
      ]
     },
     "execution_count": 4,
     "metadata": {},
     "output_type": "execute_result"
    }
   ],
   "source": [
    "data1"
   ]
  },
  {
   "cell_type": "code",
   "execution_count": null,
   "metadata": {},
   "outputs": [],
   "source": []
  },
  {
   "cell_type": "code",
   "execution_count": 18,
   "metadata": {},
   "outputs": [
    {
     "data": {
      "text/plain": [
       "36735"
      ]
     },
     "execution_count": 18,
     "metadata": {},
     "output_type": "execute_result"
    }
   ],
   "source": [
    "intensities = np.array([x for x in data.root.LST.intensities])\n",
    "intensities_width_2 = np.array([x for x in data.root.LST.intensities_width_2])\n",
    "mc_energy = [x for x in data.root.Event_Info.ei_mc_energy]\n",
    "mc_energy1 = [x['mc_energy'] for x in data1.root.Events.iterrows()]\n",
    "mc_energy2 = [x['mc_energy'] for x in data2.root.Events.iterrows()]\n",
    "mc_energy+=mc_energy1+mc_energy2\n",
    "len(mc_energy)"
   ]
  },
  {
   "cell_type": "code",
   "execution_count": 6,
   "metadata": {},
   "outputs": [
    {
     "data": {
      "text/plain": [
       "array([[1.06572604e+02, 5.43882430e-01],\n",
       "       [1.22346067e+02, 9.03628528e-01],\n",
       "       [1.17086883e+02, 4.36645538e-01],\n",
       "       ...,\n",
       "       [3.54340564e+02, 2.75973111e-01],\n",
       "       [4.55701098e+01, 0.00000000e+00],\n",
       "       [2.36714498e+02, 0.00000000e+00]])"
      ]
     },
     "execution_count": 6,
     "metadata": {},
     "output_type": "execute_result"
    }
   ],
   "source": [
    "bestia = np.array([intensities, intensities_width_2]).T\n",
    "bestia"
   ]
  },
  {
   "cell_type": "code",
   "execution_count": 7,
   "metadata": {},
   "outputs": [
    {
     "data": {
      "text/plain": [
       "12228"
      ]
     },
     "execution_count": 7,
     "metadata": {},
     "output_type": "execute_result"
    }
   ],
   "source": [
    "len(bestia[(bestia[:,0]>50)&(bestia[:,1]<.2)])"
   ]
  },
  {
   "cell_type": "code",
   "execution_count": 8,
   "metadata": {},
   "outputs": [
    {
     "data": {
      "text/plain": [
       "12228"
      ]
     },
     "execution_count": 8,
     "metadata": {},
     "output_type": "execute_result"
    }
   ],
   "source": [
    "cut_intensities = intensities[(intensities > 50) & (intensities_width_2 < 0.2)]\n",
    "len(cut_intensities)"
   ]
  },
  {
   "cell_type": "code",
   "execution_count": 9,
   "metadata": {},
   "outputs": [],
   "source": [
    "import matplotlib.pyplot as plt\n",
    "import numpy as np"
   ]
  },
  {
   "cell_type": "code",
   "execution_count": 10,
   "metadata": {
    "scrolled": true
   },
   "outputs": [
    {
     "data": {
      "image/png": "[encoded data removed]",
      "text/plain": [
       "<Figure size 432x288 with 1 Axes>"
      ]
     },
     "metadata": {
      "needs_background": "light"
     },
     "output_type": "display_data"
    }
   ],
   "source": [
    "_ = plt.hist(np.log10(intensities), bins=50, log = True, range=(1,6))"
   ]
  },
  {
   "cell_type": "code",
   "execution_count": 11,
   "metadata": {
    "scrolled": true
   },
   "outputs": [
    {
     "data": {
      "image/png": "[encoded data removed]",
      "text/plain": [
       "<Figure size 432x288 with 1 Axes>"
      ]
     },
     "metadata": {
      "needs_background": "light"
     },
     "output_type": "display_data"
    }
   ],
   "source": [
    "_1 = plt.hist(intensities_width_2[intensities_width_2 < 0.2], bins=50, log = True, range=(0,1))"
   ]
  },
  {
   "cell_type": "code",
   "execution_count": 28,
   "metadata": {
    "scrolled": true
   },
   "outputs": [
    {
     "data": {
      "image/png": "[encoded data removed]",
      "text/plain": [
       "<Figure size 432x288 with 1 Axes>"
      ]
     },
     "metadata": {
      "needs_background": "light"
     },
     "output_type": "display_data"
    }
   ],
   "source": [
    "_2 = plt.hist(np.log10(mc_energy), bins=75, log = True, density=True)# range=[-2.5,2])\n",
    "a = plt.xlabel(\"$log_{10}$E [TeV]\", fontsize=14)\n",
    "b = plt.ylabel(\"a.u.\", fontsize=14)\n",
    "t = plt.title(\"Gamma-diffuse energy distribution\", fontsize=14)"
   ]
  },
  {
   "cell_type": "code",
   "execution_count": 13,
   "metadata": {},
   "outputs": [
    {
     "ename": "OSError",
     "evalue": "``/home/pietro/ctasoft/CTA/data/orig/gamma-diffuse_20deg_180deg_runs111-120___cta-prod3-demo-2147m-LaPalma-baseline-mono.h5`` does not exist",
     "output_type": "error",
     "traceback": [
      "\u001b[0;31m---------------------------------------------------------------------------\u001b[0m",
      "\u001b[0;31mOSError\u001b[0m                                   Traceback (most recent call last)",
      "\u001b[0;32m<ipython-input-13-ca4fd6b654a2>\u001b[0m in \u001b[0;36m<module>\u001b[0;34m\u001b[0m\n\u001b[1;32m      1\u001b[0m \u001b[0mpath_org\u001b[0m \u001b[0;34m=\u001b[0m \u001b[0;34m'/home/pietro/ctasoft/CTA/data/orig/gamma-diffuse_20deg_180deg_runs111-120___cta-prod3-demo-2147m-LaPalma-baseline-mono.h5'\u001b[0m\u001b[0;34m\u001b[0m\u001b[0;34m\u001b[0m\u001b[0m\n\u001b[0;32m----> 2\u001b[0;31m \u001b[0mdata_org\u001b[0m \u001b[0;34m=\u001b[0m \u001b[0mtables\u001b[0m\u001b[0;34m.\u001b[0m\u001b[0mopen_file\u001b[0m\u001b[0;34m(\u001b[0m\u001b[0mpath_org\u001b[0m\u001b[0;34m)\u001b[0m\u001b[0;34m\u001b[0m\u001b[0;34m\u001b[0m\u001b[0m\n\u001b[0m\u001b[1;32m      3\u001b[0m \u001b[0mprint\u001b[0m\u001b[0;34m(\u001b[0m\u001b[0mdata_org\u001b[0m\u001b[0;34m)\u001b[0m\u001b[0;34m\u001b[0m\u001b[0;34m\u001b[0m\u001b[0m\n",
      "\u001b[0;32m~/miniconda3/envs/cta-dev/lib/python3.6/site-packages/tables/file.py\u001b[0m in \u001b[0;36mopen_file\u001b[0;34m(filename, mode, title, root_uep, filters, **kwargs)\u001b[0m\n\u001b[1;32m    313\u001b[0m \u001b[0;34m\u001b[0m\u001b[0m\n\u001b[1;32m    314\u001b[0m     \u001b[0;31m# Finally, create the File instance, and return it\u001b[0m\u001b[0;34m\u001b[0m\u001b[0;34m\u001b[0m\u001b[0;34m\u001b[0m\u001b[0m\n\u001b[0;32m--> 315\u001b[0;31m     \u001b[0;32mreturn\u001b[0m \u001b[0mFile\u001b[0m\u001b[0;34m(\u001b[0m\u001b[0mfilename\u001b[0m\u001b[0;34m,\u001b[0m \u001b[0mmode\u001b[0m\u001b[0;34m,\u001b[0m \u001b[0mtitle\u001b[0m\u001b[0;34m,\u001b[0m \u001b[0mroot_uep\u001b[0m\u001b[0;34m,\u001b[0m \u001b[0mfilters\u001b[0m\u001b[0;34m,\u001b[0m \u001b[0;34m**\u001b[0m\u001b[0mkwargs\u001b[0m\u001b[0;34m)\u001b[0m\u001b[0;34m\u001b[0m\u001b[0;34m\u001b[0m\u001b[0m\n\u001b[0m\u001b[1;32m    316\u001b[0m \u001b[0;34m\u001b[0m\u001b[0m\n\u001b[1;32m    317\u001b[0m \u001b[0;34m\u001b[0m\u001b[0m\n",
      "\u001b[0;32m~/miniconda3/envs/cta-dev/lib/python3.6/site-packages/tables/file.py\u001b[0m in \u001b[0;36m__init__\u001b[0;34m(self, filename, mode, title, root_uep, filters, **kwargs)\u001b[0m\n\u001b[1;32m    776\u001b[0m \u001b[0;34m\u001b[0m\u001b[0m\n\u001b[1;32m    777\u001b[0m         \u001b[0;31m# Now, it is time to initialize the File extension\u001b[0m\u001b[0;34m\u001b[0m\u001b[0;34m\u001b[0m\u001b[0;34m\u001b[0m\u001b[0m\n\u001b[0;32m--> 778\u001b[0;31m         \u001b[0mself\u001b[0m\u001b[0;34m.\u001b[0m\u001b[0m_g_new\u001b[0m\u001b[0;34m(\u001b[0m\u001b[0mfilename\u001b[0m\u001b[0;34m,\u001b[0m \u001b[0mmode\u001b[0m\u001b[0;34m,\u001b[0m \u001b[0;34m**\u001b[0m\u001b[0mparams\u001b[0m\u001b[0;34m)\u001b[0m\u001b[0;34m\u001b[0m\u001b[0;34m\u001b[0m\u001b[0m\n\u001b[0m\u001b[1;32m    779\u001b[0m \u001b[0;34m\u001b[0m\u001b[0m\n\u001b[1;32m    780\u001b[0m         \u001b[0;31m# Check filters and set PyTables format version for new files.\u001b[0m\u001b[0;34m\u001b[0m\u001b[0;34m\u001b[0m\u001b[0;34m\u001b[0m\u001b[0m\n",
      "\u001b[0;32mtables/hdf5extension.pyx\u001b[0m in \u001b[0;36mtables.hdf5extension.File._g_new\u001b[0;34m()\u001b[0m\n",
      "\u001b[0;32m~/miniconda3/envs/cta-dev/lib/python3.6/site-packages/tables/utils.py\u001b[0m in \u001b[0;36mcheck_file_access\u001b[0;34m(filename, mode)\u001b[0m\n\u001b[1;32m    152\u001b[0m         \u001b[0;31m# The file should be readable.\u001b[0m\u001b[0;34m\u001b[0m\u001b[0;34m\u001b[0m\u001b[0;34m\u001b[0m\u001b[0m\n\u001b[1;32m    153\u001b[0m         \u001b[0;32mif\u001b[0m \u001b[0;32mnot\u001b[0m \u001b[0mos\u001b[0m\u001b[0;34m.\u001b[0m\u001b[0maccess\u001b[0m\u001b[0;34m(\u001b[0m\u001b[0mfilename\u001b[0m\u001b[0;34m,\u001b[0m \u001b[0mos\u001b[0m\u001b[0;34m.\u001b[0m\u001b[0mF_OK\u001b[0m\u001b[0;34m)\u001b[0m\u001b[0;34m:\u001b[0m\u001b[0;34m\u001b[0m\u001b[0;34m\u001b[0m\u001b[0m\n\u001b[0;32m--> 154\u001b[0;31m             \u001b[0;32mraise\u001b[0m \u001b[0mIOError\u001b[0m\u001b[0;34m(\u001b[0m\u001b[0;34m\"``%s`` does not exist\"\u001b[0m \u001b[0;34m%\u001b[0m \u001b[0;34m(\u001b[0m\u001b[0mfilename\u001b[0m\u001b[0;34m,\u001b[0m\u001b[0;34m)\u001b[0m\u001b[0;34m)\u001b[0m\u001b[0;34m\u001b[0m\u001b[0;34m\u001b[0m\u001b[0m\n\u001b[0m\u001b[1;32m    155\u001b[0m         \u001b[0;32mif\u001b[0m \u001b[0;32mnot\u001b[0m \u001b[0mos\u001b[0m\u001b[0;34m.\u001b[0m\u001b[0mpath\u001b[0m\u001b[0;34m.\u001b[0m\u001b[0misfile\u001b[0m\u001b[0;34m(\u001b[0m\u001b[0mfilename\u001b[0m\u001b[0;34m)\u001b[0m\u001b[0;34m:\u001b[0m\u001b[0;34m\u001b[0m\u001b[0;34m\u001b[0m\u001b[0m\n\u001b[1;32m    156\u001b[0m             \u001b[0;32mraise\u001b[0m \u001b[0mIOError\u001b[0m\u001b[0;34m(\u001b[0m\u001b[0;34m\"``%s`` is not a regular file\"\u001b[0m \u001b[0;34m%\u001b[0m \u001b[0;34m(\u001b[0m\u001b[0mfilename\u001b[0m\u001b[0;34m,\u001b[0m\u001b[0;34m)\u001b[0m\u001b[0;34m)\u001b[0m\u001b[0;34m\u001b[0m\u001b[0;34m\u001b[0m\u001b[0m\n",
      "\u001b[0;31mOSError\u001b[0m: ``/home/pietro/ctasoft/CTA/data/orig/gamma-diffuse_20deg_180deg_runs111-120___cta-prod3-demo-2147m-LaPalma-baseline-mono.h5`` does not exist"
     ]
    }
   ],
   "source": [
    "path_org = '/home/pietro/ctasoft/CTA/data/orig/gamma-diffuse_20deg_180deg_runs111-120___cta-prod3-demo-2147m-LaPalma-baseline-mono.h5'\n",
    "data_org = tables.open_file(path_org)\n",
    "print(data_org)"
   ]
  },
  {
   "cell_type": "code",
   "execution_count": null,
   "metadata": {},
   "outputs": [],
   "source": [
    "org_einfo = data_org.root.Events\n",
    "org_LST = data_org.root.LST_LSTCam "
   ]
  },
  {
   "cell_type": "code",
   "execution_count": null,
   "metadata": {
    "scrolled": true
   },
   "outputs": [],
   "source": [
    "org_einfo"
   ]
  },
  {
   "cell_type": "code",
   "execution_count": null,
   "metadata": {},
   "outputs": [],
   "source": [
    "org_energies = [x[\"mc_energy\"] for x in org_einfo.iterrows()]\n",
    "LSTCam_indices = [x[\"LST_LSTCam_indices\"] for x in org_einfo.iterrows()]"
   ]
  },
  {
   "cell_type": "code",
   "execution_count": null,
   "metadata": {},
   "outputs": [],
   "source": [
    "plt.hist(np.log10(org_energies), bins=100, log = True)"
   ]
  },
  {
   "cell_type": "code",
   "execution_count": null,
   "metadata": {
    "scrolled": true
   },
   "outputs": [],
   "source": [
    "values,bins,patches = plt.hist(intensities_width_2, bins = 100, density = True, log=True)"
   ]
  },
  {
   "cell_type": "code",
   "execution_count": null,
   "metadata": {},
   "outputs": [],
   "source": [
    "len_bin = len(bins) -1\n",
    "print(len_bin)"
   ]
  },
  {
   "cell_type": "code",
   "execution_count": null,
   "metadata": {},
   "outputs": [],
   "source": [
    "area = sum(values[20:100])/sum(values)\n",
    "print(area)"
   ]
  },
  {
   "cell_type": "code",
   "execution_count": null,
   "metadata": {},
   "outputs": [],
   "source": []
  }
 ],
 "metadata": {
  "kernelspec": {
   "display_name": "Python 3",
   "language": "python",
   "name": "python3"
  },
  "language_info": {
   "codemirror_mode": {
    "name": "ipython",
    "version": 3
   },
   "file_extension": ".py",
   "mimetype": "text/x-python",
   "name": "python",
   "nbconvert_exporter": "python",
   "pygments_lexer": "ipython3",
   "version": "3.6.9"
  }
 },
 "nbformat": 4,
 "nbformat_minor": 2
}
